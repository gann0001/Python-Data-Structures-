{
 "cells": [
  {
   "cell_type": "code",
   "execution_count": 2,
   "metadata": {},
   "outputs": [],
   "source": [
    "#create nodes\n",
    "#create linkded list\n",
    "#add nodes to linked list\n",
    "#print linked list"
   ]
  },
  {
   "cell_type": "code",
   "execution_count": 11,
   "metadata": {},
   "outputs": [],
   "source": [
    "class Node:\n",
    "    def __init__(self,data):\n",
    "        self.data = data\n",
    "        self.next = None"
   ]
  },
  {
   "cell_type": "code",
   "execution_count": 171,
   "metadata": {},
   "outputs": [],
   "source": [
    "class LinkedList:\n",
    "    def __init__(self):\n",
    "        self.head = None\n",
    "    \n",
    "    def list_length(self):\n",
    "        count = 0\n",
    "        cur_node = self.head\n",
    "        while cur_node is not None:\n",
    "            count += 1\n",
    "            cur_node = cur_node.next\n",
    "        return count \n",
    "    \n",
    "    def is_list_empty(self):\n",
    "        if self.head is None:\n",
    "            return True\n",
    "        else:\n",
    "            return False\n",
    "        \n",
    "    def insert(self, new_node):\n",
    "        if self.head is None:\n",
    "            self.head = new_node\n",
    "        else:\n",
    "            last_node = self.head\n",
    "            while True:\n",
    "                if last_node.next is None:\n",
    "                    break\n",
    "                last_node = last_node.next\n",
    "            last_node.next = new_node\n",
    "    \n",
    "    def insert_head(self, new_node):\n",
    "        if self.head is None:\n",
    "            self.head = new_node\n",
    "        else:\n",
    "            temp_node = self.head\n",
    "            self.head = new_node\n",
    "            new_node.next = temp_node\n",
    "            del temp_node\n",
    "    \n",
    "    def insert_at(self, new_node, position):\n",
    "        current_position = 0\n",
    "        if position is 0:\n",
    "            self.insert_head(new_node)\n",
    "            return\n",
    "        if position < 0 or position > self.list_length():\n",
    "            print(\"Element cannot be inserted at given position\")\n",
    "            return\n",
    "        if self.head is None:\n",
    "            print(\"Linked list is empty\")\n",
    "        else:\n",
    "            cur_node = self.head\n",
    "            while True:\n",
    "                if current_position == position:\n",
    "                    prev_node.next = new_node\n",
    "                    new_node.next = cur_node\n",
    "                    break\n",
    "                else:\n",
    "                    prev_node = cur_node\n",
    "                    cur_node = cur_node.next\n",
    "                    current_position += 1\n",
    "        \n",
    "        \n",
    "    def print_list(self):\n",
    "        if self.head is None:\n",
    "            print(\"Linked list Elements are none\")\n",
    "        else:\n",
    "            cur_node = self.head\n",
    "            while True:\n",
    "                if cur_node is not None:\n",
    "                    print(cur_node.data)\n",
    "                    cur_node = cur_node.next\n",
    "                else:\n",
    "                    break\n",
    "                    \n",
    "    def delete_node(self,new_node):\n",
    "        prev_node = self.head\n",
    "        cur_node = self.head\n",
    "        next_node = cur_node.next\n",
    "        while True:\n",
    "            if cur_node.data == new_node:\n",
    "                cur_node = next_node\n",
    "                break\n",
    "            else:\n",
    "                prev_node = cur_node\n",
    "                cur_node = next_node\n",
    "                next_node = cur_node.next\n",
    "    \n",
    "    def del_end(self):\n",
    "        cur_node = self.head\n",
    "        if self.is_list_empty():\n",
    "            print('List is empty')\n",
    "        else:\n",
    "            while cur_node.next is not None:\n",
    "                prev_node = cur_node\n",
    "                cur_node = cur_node.next\n",
    "            prev_node.next = None\n",
    "    \n",
    "    def del_head(self):\n",
    "        if self.is_list_empty():\n",
    "            print(\"list is empty\")\n",
    "        else:\n",
    "            if self.head.next is None:\n",
    "                self.del_end()\n",
    "                return\n",
    "            prev_head = self.head\n",
    "            self.head = self.head.next\n",
    "            prev_head.next = None\n",
    "    \n",
    "    def del_position(self, position):\n",
    "        cur_position = 0\n",
    "        cur_node = self.head\n",
    "        if position is 0:\n",
    "            self.del_head()\n",
    "            return\n",
    "        if position < 0 or position >= self.list_length():\n",
    "            print('This position is not exist')\n",
    "            return\n",
    "        if self.is_list_empty():\n",
    "            print('List is empty')\n",
    "        while True:\n",
    "            if cur_position == position:\n",
    "                prev_node.next = cur_node.next\n",
    "                cur_node.next = None\n",
    "                break\n",
    "            else:\n",
    "                prev_node = cur_node\n",
    "                cur_node = cur_node.next\n",
    "                cur_position += 1"
   ]
  },
  {
   "cell_type": "markdown",
   "metadata": {},
   "source": [
    "### Insert the node"
   ]
  },
  {
   "cell_type": "code",
   "execution_count": 74,
   "metadata": {},
   "outputs": [],
   "source": [
    "first_node = Node(\"A\")\n",
    "linked_list = LinkedList()\n",
    "linked_list.insert(first_node)\n",
    "second_node = Node(\"B\")\n",
    "linked_list.insert(second_node)\n",
    "third_node = Node(\"C\")\n",
    "linked_list.insert(third_node)"
   ]
  },
  {
   "cell_type": "markdown",
   "metadata": {},
   "source": [
    "## print the node"
   ]
  },
  {
   "cell_type": "code",
   "execution_count": 68,
   "metadata": {},
   "outputs": [
    {
     "name": "stdout",
     "output_type": "stream",
     "text": [
      "A\n",
      "B\n",
      "C\n"
     ]
    }
   ],
   "source": [
    "linked_list.print_list()"
   ]
  },
  {
   "cell_type": "code",
   "execution_count": 75,
   "metadata": {},
   "outputs": [],
   "source": [
    "linked_list = LinkedList()"
   ]
  },
  {
   "cell_type": "code",
   "execution_count": 76,
   "metadata": {},
   "outputs": [
    {
     "name": "stdout",
     "output_type": "stream",
     "text": [
      "Linked list Elements are none\n"
     ]
    }
   ],
   "source": [
    "linked_list.print_list()"
   ]
  },
  {
   "cell_type": "markdown",
   "metadata": {},
   "source": [
    "### insert Head at the start of the node"
   ]
  },
  {
   "cell_type": "code",
   "execution_count": null,
   "metadata": {},
   "outputs": [],
   "source": [
    "\n",
    "first_node = Node(\"A\")\n",
    "linked_list = LinkedList()\n",
    "linked_list.insert(first_node)\n",
    "second_node = Node(\"B\")\n",
    "linked_list.insert(second_node)\n",
    "third_node = Node(\"C\")\n",
    "linked_list.insert_head(third_node)\n",
    "linked_list.print_list()"
   ]
  },
  {
   "cell_type": "markdown",
   "metadata": {},
   "source": [
    "## insert the node inbetween"
   ]
  },
  {
   "cell_type": "code",
   "execution_count": 174,
   "metadata": {},
   "outputs": [
    {
     "name": "stdout",
     "output_type": "stream",
     "text": [
      "Linked List elements are\n",
      "10\n",
      "20\n",
      "14\n"
     ]
    }
   ],
   "source": [
    "\n",
    "first_node = Node(10)\n",
    "linked_list = LinkedList()\n",
    "linked_list.insert(first_node)\n",
    "second_node = Node(20)\n",
    "linked_list.insert(second_node)\n",
    "third_node = Node(14)\n",
    "linked_list.insert_at(third_node, 2)\n",
    "print(\"Linked List elements are\")\n",
    "linked_list.print_list()"
   ]
  },
  {
   "cell_type": "markdown",
   "metadata": {},
   "source": [
    "## Delete a node at the end of linked list"
   ]
  },
  {
   "cell_type": "code",
   "execution_count": 150,
   "metadata": {},
   "outputs": [
    {
     "name": "stdout",
     "output_type": "stream",
     "text": [
      "Linked List elements are\n",
      "10\n",
      "20\n"
     ]
    }
   ],
   "source": [
    "first_node = Node(10)\n",
    "linked_list = LinkedList()\n",
    "linked_list.insert(first_node)\n",
    "second_node = Node(20)\n",
    "linked_list.insert(second_node)\n",
    "third_node = Node(14)\n",
    "linked_list.insert(third_node)\n",
    "linked_list.del_end()\n",
    "print(\"Linked List elements are\")\n",
    "linked_list.print_list()"
   ]
  },
  {
   "cell_type": "markdown",
   "metadata": {},
   "source": [
    "## Delete a head node of the linked list"
   ]
  },
  {
   "cell_type": "code",
   "execution_count": 151,
   "metadata": {},
   "outputs": [
    {
     "name": "stdout",
     "output_type": "stream",
     "text": [
      "Linked List elements are\n",
      "20\n",
      "14\n"
     ]
    }
   ],
   "source": [
    "first_node = Node(10)\n",
    "linked_list = LinkedList()\n",
    "linked_list.insert(first_node)\n",
    "second_node = Node(20)\n",
    "linked_list.insert(second_node)\n",
    "third_node = Node(14)\n",
    "linked_list.insert(third_node)\n",
    "linked_list.del_head()\n",
    "print(\"Linked List elements are\")\n",
    "linked_list.print_list()"
   ]
  },
  {
   "cell_type": "markdown",
   "metadata": {},
   "source": [
    "# Delete a node in between two nodes"
   ]
  },
  {
   "cell_type": "code",
   "execution_count": 170,
   "metadata": {},
   "outputs": [
    {
     "name": "stdout",
     "output_type": "stream",
     "text": [
      "20\n",
      "14\n"
     ]
    }
   ],
   "source": [
    "first_node = Node(10)\n",
    "linked_list = LinkedList()\n",
    "linked_list.insert(first_node)\n",
    "second_node = Node(20)\n",
    "linked_list.insert(second_node)\n",
    "third_node = Node(14)\n",
    "linked_list.insert(third_node)\n",
    "linked_list.del_position(0)\n",
    "linked_list.print_list()"
   ]
  },
  {
   "cell_type": "code",
   "execution_count": null,
   "metadata": {},
   "outputs": [],
   "source": []
  }
 ],
 "metadata": {
  "kernelspec": {
   "display_name": "Python 3",
   "language": "python",
   "name": "python3"
  },
  "language_info": {
   "codemirror_mode": {
    "name": "ipython",
    "version": 3
   },
   "file_extension": ".py",
   "mimetype": "text/x-python",
   "name": "python",
   "nbconvert_exporter": "python",
   "pygments_lexer": "ipython3",
   "version": "3.6.6"
  }
 },
 "nbformat": 4,
 "nbformat_minor": 2
}
