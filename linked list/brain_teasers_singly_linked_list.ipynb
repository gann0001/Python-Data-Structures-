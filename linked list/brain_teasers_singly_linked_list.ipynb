{
 "cells": [
  {
   "cell_type": "markdown",
   "metadata": {},
   "source": [
    "# Brain Teasers"
   ]
  },
  {
   "cell_type": "markdown",
   "metadata": {},
   "source": [
    "## Detect Cycle in a Singly Linked List"
   ]
  },
  {
   "cell_type": "code",
   "execution_count": 1,
   "metadata": {},
   "outputs": [],
   "source": [
    "from singly_linked_list import Node, LinkedList"
   ]
  },
  {
   "cell_type": "code",
   "execution_count": 153,
   "metadata": {},
   "outputs": [],
   "source": [
    "#Inherit Node class\n",
    "class NewNode(Node):\n",
    "    def __init__(self, data):\n",
    "        super().__init__(data)\n",
    "        self.is_visited = False"
   ]
  },
  {
   "cell_type": "code",
   "execution_count": 3,
   "metadata": {},
   "outputs": [
    {
     "name": "stdout",
     "output_type": "stream",
     "text": [
      "A\n",
      "B\n",
      "C\n"
     ]
    }
   ],
   "source": [
    "#Create a cycle\n",
    "linked_list = LinkedList()\n",
    "first_node = NewNode('A')\n",
    "linked_list.insert(first_node)\n",
    "second_node = NewNode('B')\n",
    "linked_list.insert(second_node)\n",
    "third_node = NewNode('C')\n",
    "linked_list.insert(third_node)\n",
    "linked_list.print_list()\n",
    "third_node.next = second_node"
   ]
  },
  {
   "cell_type": "markdown",
   "metadata": {},
   "source": [
    "### create a function to detect cycle"
   ]
  },
  {
   "cell_type": "code",
   "execution_count": 4,
   "metadata": {},
   "outputs": [],
   "source": [
    "def detect_cycle(linked_list):\n",
    "    cur_node = linked_list.head\n",
    "    cur_node.is_visited = True\n",
    "    while True:\n",
    "        if cur_node.next == None:\n",
    "            print('No Loop found')\n",
    "            break\n",
    "        elif cur_node.next.is_visited is True:\n",
    "            print('Yes loop has been found and removed')\n",
    "            cur_node.next = None\n",
    "            break\n",
    "        cur_node = cur_node.next\n",
    "        cur_node.is_visited = True\n",
    "        "
   ]
  },
  {
   "cell_type": "code",
   "execution_count": 5,
   "metadata": {},
   "outputs": [
    {
     "name": "stdout",
     "output_type": "stream",
     "text": [
      "Yes loop has been found and removed\n"
     ]
    }
   ],
   "source": [
    "detect_cycle(linked_list)"
   ]
  },
  {
   "cell_type": "code",
   "execution_count": 6,
   "metadata": {},
   "outputs": [
    {
     "name": "stdout",
     "output_type": "stream",
     "text": [
      "A\n",
      "B\n",
      "C\n"
     ]
    }
   ],
   "source": [
    "#print the elements of linked list\n",
    "linked_list.print_list()"
   ]
  },
  {
   "cell_type": "code",
   "execution_count": 7,
   "metadata": {},
   "outputs": [
    {
     "data": {
      "text/plain": [
       "3"
      ]
     },
     "execution_count": 7,
     "metadata": {},
     "output_type": "execute_result"
    }
   ],
   "source": [
    "linked_list.list_length()"
   ]
  },
  {
   "cell_type": "markdown",
   "metadata": {},
   "source": [
    "# Swap two nodes of a singly linked list"
   ]
  },
  {
   "cell_type": "code",
   "execution_count": 144,
   "metadata": {},
   "outputs": [
    {
     "name": "stdout",
     "output_type": "stream",
     "text": [
      "5\n",
      "3\n",
      "4\n"
     ]
    }
   ],
   "source": [
    "linked_list = LinkedList()\n",
    "first_node = NewNode(5)\n",
    "second_node = NewNode(3)\n",
    "third_node = NewNode(4)\n",
    "fourth_node = NewNode(2)\n",
    "# fifth_node = NewNode(7)\n",
    "# six_node = NewNode(1)\n",
    "linked_list.insert(first_node)\n",
    "linked_list.insert(second_node)\n",
    "linked_list.insert(third_node)\n",
    "# linked_list.insert(fourth_node)\n",
    "# linked_list.insert(fifth_node)\n",
    "# linked_list.insert(six_node)\n",
    "linked_list.print_list()"
   ]
  },
  {
   "cell_type": "code",
   "execution_count": 131,
   "metadata": {},
   "outputs": [],
   "source": [
    "def swap_nodes(linked_list, elem1, elem2):\n",
    "    cur_node = linked_list.head\n",
    "    prev1 = None\n",
    "    prev2 = None\n",
    "    while True:\n",
    "        if cur_node.data == elem1:\n",
    "            swap1 = cur_node\n",
    "            break\n",
    "        else:\n",
    "            prev1 = cur_node\n",
    "            cur_node = cur_node.next\n",
    "            \n",
    "    cur_node = linked_list.head\n",
    "    while True:\n",
    "        if cur_node.data == elem1:\n",
    "            swap2 = cur_node\n",
    "            break\n",
    "        else:\n",
    "            prev2 = cur_node\n",
    "            cur_node = cur_node.next\n",
    "    temp = swap2.next\n",
    "    if prev1 == None:\n",
    "        linked_list.head = swap2\n",
    "    else:\n",
    "        prev1.next = swap2\n",
    "    swap2.next = swap1.next\n",
    "    if prev1 == None:\n",
    "        linked_list.head = swap1\n",
    "    else:\n",
    "        prev2.next = swap1\n",
    "    swap1.next = temp\n",
    "\n"
   ]
  },
  {
   "cell_type": "code",
   "execution_count": 137,
   "metadata": {},
   "outputs": [
    {
     "name": "stdout",
     "output_type": "stream",
     "text": [
      "4\n",
      "3\n",
      "5\n"
     ]
    }
   ],
   "source": [
    "# swap_nodes(linked_list,4,7)\n",
    "linked_list.print_list()"
   ]
  },
  {
   "cell_type": "markdown",
   "metadata": {},
   "source": [
    "## Sort the linked list"
   ]
  },
  {
   "cell_type": "code",
   "execution_count": 147,
   "metadata": {},
   "outputs": [],
   "source": [
    "def swap_next(linked_list,prev_node, largest_node, next_node):\n",
    "    largest_node.next = next_node.next\n",
    "    next_node.next = largest_node\n",
    "    if largest_node is linked_list.head:\n",
    "        linked_list.head = next_node\n",
    "    else:\n",
    "        prev_node.next = next_node\n",
    "\n",
    "#BUBBLE SORT\n",
    "def sort_list(linked_list):\n",
    "    num_of_iterations = linked_list.list_length()-1\n",
    "    while num_of_iterations != 0:\n",
    "        largest_node = linked_list.head\n",
    "        prev_node = None\n",
    "        number_of_comparisons = num_of_iterations\n",
    "        while number_of_comparisons != 0:\n",
    "            if largest_node.data > largest_node.next.data:\n",
    "                swap_next(linked_list, prev_node, largest_node,largest_node.next)\n",
    "            else:\n",
    "                prev_node = largest_node\n",
    "                largest_node = largest_node.next\n",
    "            number_of_comparisons -= 1\n",
    "        num_of_iterations -= 1\n"
   ]
  },
  {
   "cell_type": "code",
   "execution_count": 151,
   "metadata": {},
   "outputs": [
    {
     "name": "stdout",
     "output_type": "stream",
     "text": [
      "3\n",
      "5\n"
     ]
    }
   ],
   "source": [
    "sort_list(linked_list)\n",
    "linked_list.print_list()"
   ]
  },
  {
   "cell_type": "markdown",
   "metadata": {},
   "source": [
    "## Remove duplicated from sorted singly linked list"
   ]
  },
  {
   "cell_type": "code",
   "execution_count": 170,
   "metadata": {},
   "outputs": [
    {
     "name": "stdout",
     "output_type": "stream",
     "text": [
      "1\n",
      "1\n",
      "2\n",
      "2\n",
      "5\n"
     ]
    }
   ],
   "source": [
    "linked_list = LinkedList()\n",
    "first_node = NewNode(1)\n",
    "second_node = NewNode(1)\n",
    "third_node = NewNode(2)\n",
    "fourth_node = NewNode(2)\n",
    "fifth_node = NewNode(5)\n",
    "linked_list.insert(first_node)\n",
    "linked_list.insert(second_node)\n",
    "linked_list.insert(third_node)\n",
    "linked_list.insert(fourth_node)\n",
    "linked_list.insert(fifth_node)\n",
    "linked_list.print_list()"
   ]
  },
  {
   "cell_type": "code",
   "execution_count": 171,
   "metadata": {},
   "outputs": [],
   "source": [
    "def remove_duplicate(linked_list):\n",
    "    cur_node = linked_list.head\n",
    "    num_of_iterations = linked_list.list_length()-1\n",
    "    while num_of_iterations != 0:\n",
    "        if cur_node.data == cur_node.next.data:\n",
    "            duplicate_node = cur_node.next\n",
    "            cur_node.next = cur_node.next.next\n",
    "            duplicate_node.next = None\n",
    "        else:\n",
    "            cur_node = cur_node.next\n",
    "        num_of_iterations -= 1"
   ]
  },
  {
   "cell_type": "code",
   "execution_count": 172,
   "metadata": {},
   "outputs": [
    {
     "name": "stdout",
     "output_type": "stream",
     "text": [
      "1\n",
      "1\n",
      "2\n",
      "2\n",
      "5\n",
      "None\n",
      "1\n",
      "2\n",
      "5\n"
     ]
    }
   ],
   "source": [
    "print(linked_list.print_list())\n",
    "remove_duplicate(linked_list)\n",
    "linked_list.print_list()"
   ]
  },
  {
   "cell_type": "markdown",
   "metadata": {},
   "source": [
    "## Merge two sorted lists"
   ]
  },
  {
   "cell_type": "code",
   "execution_count": 256,
   "metadata": {},
   "outputs": [
    {
     "name": "stdout",
     "output_type": "stream",
     "text": [
      "1\n",
      "3\n",
      "4\n",
      "2\n",
      "7\n",
      "9\n"
     ]
    }
   ],
   "source": [
    "linked_list1 = LinkedList()\n",
    "linked_list2 = LinkedList()\n",
    "first_node = NewNode(1)\n",
    "second_node = NewNode(3)\n",
    "third_node = NewNode(4)\n",
    "fourth_node = NewNode(2)\n",
    "fifth_node = NewNode(7)\n",
    "six_node = NewNode(9)\n",
    "linked_list1.insert(first_node)\n",
    "linked_list1.insert(second_node)\n",
    "linked_list1.insert(third_node)\n",
    "linked_list2.insert(fourth_node)\n",
    "linked_list2.insert(fifth_node)\n",
    "linked_list2.insert(six_node)\n",
    "linked_list1.print_list()\n",
    "linked_list2.print_list()"
   ]
  },
  {
   "cell_type": "code",
   "execution_count": 257,
   "metadata": {},
   "outputs": [],
   "source": [
    "#1->3->4 | 2->7->9 | \n",
    "def merge_lists(linked_list1, linked_list2, merge_list):\n",
    "    l1_cur_node = linked_list1.head\n",
    "    l2_cur_node = linked_list2.head\n",
    "    while True:\n",
    "        if l1_cur_node is None:\n",
    "            merge_list.insert(l2_cur_node)\n",
    "            break\n",
    "        elif l2_cur_node is None:\n",
    "            merge_list.insert(l1_cur_node)\n",
    "            break\n",
    "        elif l1_cur_node.data < l2_cur_node.data:\n",
    "            temp = l1_cur_node.next\n",
    "            l1_cur_node.next = None\n",
    "            merge_list.insert(l1_cur_node)\n",
    "            l1_cur_node = temp\n",
    "\n",
    "        elif l1_cur_node.data > l2_cur_node.data:\n",
    "            print('b',l1_cur_node.data,l2_cur_node.data)\n",
    "            temp = l2_cur_node.next\n",
    "            l2_cur_node.next = None\n",
    "            merge_list.insert(l2_cur_node)\n",
    "            l2_cur_node = temp\n",
    "        "
   ]
  },
  {
   "cell_type": "code",
   "execution_count": 258,
   "metadata": {},
   "outputs": [
    {
     "name": "stdout",
     "output_type": "stream",
     "text": [
      "b 3 2\n",
      "length of the list:  6\n",
      "1\n",
      "2\n",
      "3\n",
      "4\n",
      "7\n",
      "9\n"
     ]
    }
   ],
   "source": [
    "merge_list = LinkedList()\n",
    "merge_lists(linked_list1, linked_list2, merge_list)\n",
    "print('length of the list: ',merge_list.list_length())\n",
    "merge_list.print_list()\n"
   ]
  },
  {
   "cell_type": "code",
   "execution_count": null,
   "metadata": {},
   "outputs": [],
   "source": []
  }
 ],
 "metadata": {
  "kernelspec": {
   "display_name": "Python 3",
   "language": "python",
   "name": "python3"
  },
  "language_info": {
   "codemirror_mode": {
    "name": "ipython",
    "version": 3
   },
   "file_extension": ".py",
   "mimetype": "text/x-python",
   "name": "python",
   "nbconvert_exporter": "python",
   "pygments_lexer": "ipython3",
   "version": "3.6.6"
  }
 },
 "nbformat": 4,
 "nbformat_minor": 2
}
