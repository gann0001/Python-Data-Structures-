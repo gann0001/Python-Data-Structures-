{
 "cells": [
  {
   "cell_type": "code",
   "execution_count": 1,
   "metadata": {},
   "outputs": [],
   "source": [
    "from doubly_linked_list import Node, LinkedList"
   ]
  },
  {
   "cell_type": "code",
   "execution_count": 2,
   "metadata": {},
   "outputs": [
    {
     "name": "stdout",
     "output_type": "stream",
     "text": [
      "printing from the begining:\n",
      "5\n",
      "2\n",
      "20\n",
      "3\n",
      "15\n",
      "\n",
      "printing from the backward:\n",
      "15\n",
      "3\n",
      "20\n",
      "2\n",
      "5\n"
     ]
    }
   ],
   "source": [
    "node_one = Node(5)\n",
    "node_two = Node(2)\n",
    "node_three = Node(20)\n",
    "node_four = Node(3)\n",
    "node_five = Node(15)\n",
    "linked_list = LinkedList()\n",
    "linked_list.insert_end(node_one)\n",
    "linked_list.insert_end(node_two)\n",
    "linked_list.insert_end(node_three)\n",
    "linked_list.insert_end(node_four)\n",
    "linked_list.insert_end(node_five)\n",
    "linked_list.print_list()"
   ]
  },
  {
   "cell_type": "code",
   "execution_count": 3,
   "metadata": {},
   "outputs": [],
   "source": [
    "def find_greater(linked_list):\n",
    "    length = linked_list.list_len()\n",
    "    if length > 3:\n",
    "        middle_position = 5//2\n",
    "        cur_node = linked_list.head\n",
    "        cur_pos = 0\n",
    "        while True:\n",
    "            if cur_pos == middle_position:\n",
    "                if cur_node.previous.data > cur_node.next.data:\n",
    "                    print('Yes it is greater')\n",
    "                else:\n",
    "                    print('No it is not greater')\n",
    "                break\n",
    "            else:\n",
    "                cur_node = cur_node.next\n",
    "                cur_pos += 1\n",
    "    else:\n",
    "        print('Hey we need at least three nodes')"
   ]
  },
  {
   "cell_type": "code",
   "execution_count": 4,
   "metadata": {},
   "outputs": [
    {
     "name": "stdout",
     "output_type": "stream",
     "text": [
      "No it is not greater\n"
     ]
    }
   ],
   "source": [
    "find_greater(linked_list)"
   ]
  },
  {
   "cell_type": "markdown",
   "metadata": {},
   "source": [
    "## Divide data at node 2"
   ]
  },
  {
   "cell_type": "code",
   "execution_count": 2,
   "metadata": {},
   "outputs": [],
   "source": [
    "def divide_by_two(linked_list):\n",
    "    cur_node = linked_list.head\n",
    "    for i in range(linked_list.list_len()):\n",
    "        if cur_node.previous is not None:\n",
    "            if cur_node.previous.data % 2 != 0:\n",
    "                cur_node.data = cur_node.data // 2\n",
    "        cur_node = cur_node.next\n"
   ]
  },
  {
   "cell_type": "code",
   "execution_count": 3,
   "metadata": {},
   "outputs": [
    {
     "name": "stdout",
     "output_type": "stream",
     "text": [
      "printing from the begining:\n",
      "2\n",
      "13\n",
      "5\n",
      "10\n",
      "15\n",
      "\n",
      "printing from the backward:\n",
      "15\n",
      "10\n",
      "5\n",
      "13\n",
      "2\n"
     ]
    }
   ],
   "source": [
    "node_one = Node(2)\n",
    "node_two = Node(13)\n",
    "node_three = Node(10)\n",
    "node_four = Node(20)\n",
    "node_five = Node(15)\n",
    "linked_list = LinkedList()\n",
    "linked_list.insert_end(node_one)\n",
    "linked_list.insert_end(node_two)\n",
    "linked_list.insert_end(node_three)\n",
    "linked_list.insert_end(node_four)\n",
    "linked_list.insert_end(node_five)\n",
    "divide_by_two(linked_list)\n",
    "linked_list.print_list()"
   ]
  },
  {
   "cell_type": "markdown",
   "metadata": {},
   "source": [
    "# Reverse the doubly linked list"
   ]
  },
  {
   "cell_type": "code",
   "execution_count": 18,
   "metadata": {},
   "outputs": [],
   "source": [
    "def reverse_list(linked_list):\n",
    "    cur_node = linked_list.head\n",
    "    while cur_node is not None:\n",
    "        temp_node = cur_node.next\n",
    "        cur_node.next = cur_node.previous\n",
    "        cur_node.previous = temp_node\n",
    "        if cur_node.previous is None:\n",
    "            linked_list.head = cur_node\n",
    "        cur_node = temp_node\n",
    "        \n",
    "        \n",
    "        \n",
    "        "
   ]
  },
  {
   "cell_type": "code",
   "execution_count": 20,
   "metadata": {},
   "outputs": [
    {
     "name": "stdout",
     "output_type": "stream",
     "text": [
      "printing from the begining:\n",
      "20\n",
      "10\n",
      "13\n",
      "2\n",
      "\n",
      "printing from the backward:\n",
      "2\n",
      "13\n",
      "10\n",
      "20\n"
     ]
    }
   ],
   "source": [
    "node_one = Node(2)\n",
    "node_two = Node(13)\n",
    "node_three = Node(10)\n",
    "node_four = Node(20)\n",
    "linked_list = LinkedList()\n",
    "linked_list.insert_end(node_one)\n",
    "linked_list.insert_end(node_two)\n",
    "linked_list.insert_end(node_three)\n",
    "linked_list.insert_end(node_four)\n",
    "reverse_list(linked_list)\n",
    "linked_list.print_list()"
   ]
  },
  {
   "cell_type": "code",
   "execution_count": 33,
   "metadata": {},
   "outputs": [],
   "source": [
    "class NewNode(Node):\n",
    "    def __init__(self, data):\n",
    "        super().__init__(data)\n",
    "        self.is_visited = False"
   ]
  },
  {
   "cell_type": "code",
   "execution_count": 34,
   "metadata": {},
   "outputs": [
    {
     "name": "stdout",
     "output_type": "stream",
     "text": [
      "printing from the begining:\n",
      "2\n",
      "13\n",
      "10\n",
      "20\n",
      "\n",
      "printing from the backward:\n",
      "20\n",
      "10\n",
      "13\n",
      "2\n"
     ]
    }
   ],
   "source": [
    "node_one = NewNode(2)\n",
    "node_two = NewNode(13)\n",
    "node_three = NewNode(10)\n",
    "node_four = NewNode(20)\n",
    "linked_list = LinkedList()\n",
    "linked_list.insert_end(node_one)\n",
    "linked_list.insert_end(node_two)\n",
    "linked_list.insert_end(node_three)\n",
    "linked_list.insert_end(node_four)\n",
    "linked_list.print_list()"
   ]
  },
  {
   "cell_type": "code",
   "execution_count": null,
   "metadata": {},
   "outputs": [],
   "source": [
    "def remove_duplicates(linked_list):\n",
    "    cur_node = linked_list.head\n",
    "    cur_node.is_visited = True\n",
    "    while cur_node is not None:\n",
    "        if cur_node.next.is_visited is True:\n",
    "            temp = cur_node.next\n",
    "            cur_node.next = temp.next\n",
    "            temp.next.previous = cur_node\n",
    "            temp.previous = None\n",
    "            temp.next = None\n",
    "        else:\n",
    "            cur_node = cur_node.next\n",
    "            cur_node.is_visited = True"
   ]
  }
 ],
 "metadata": {
  "kernelspec": {
   "display_name": "Python 3",
   "language": "python",
   "name": "python3"
  },
  "language_info": {
   "codemirror_mode": {
    "name": "ipython",
    "version": 3
   },
   "file_extension": ".py",
   "mimetype": "text/x-python",
   "name": "python",
   "nbconvert_exporter": "python",
   "pygments_lexer": "ipython3",
   "version": "3.6.6"
  }
 },
 "nbformat": 4,
 "nbformat_minor": 2
}
