{
 "cells": [
  {
   "cell_type": "code",
   "execution_count": 16,
   "metadata": {},
   "outputs": [],
   "source": [
    "class Node:\n",
    "    def __init__(self,data):\n",
    "        self.data = data\n",
    "        self.next = None"
   ]
  },
  {
   "cell_type": "code",
   "execution_count": 51,
   "metadata": {},
   "outputs": [],
   "source": [
    "class LinkedList:\n",
    "    def __init__(self):\n",
    "        self.head = None\n",
    "    \n",
    "    def insert_end(self,new_node):\n",
    "        if self.head is None:\n",
    "            self.head = new_node\n",
    "            new_node.next = self.head\n",
    "            return\n",
    "        cur_node = self.head\n",
    "        while cur_node.next is not self.head:\n",
    "             cur_node = cur_node.next\n",
    "        cur_node.next = new_node\n",
    "        new_node.next = self.head\n",
    "    \n",
    "    def insert_head(self,new_node):\n",
    "        if self.head is None:\n",
    "            insert_end(new_node)\n",
    "            return\n",
    "        temp = self.head\n",
    "        last_node = self.head\n",
    "        while last_node.next is not self.head:\n",
    "            last_node = last_node.next\n",
    "        last_node.next = new_node\n",
    "        new_node.next = temp\n",
    "        self.head = new_node\n",
    "    \n",
    "    def delete_end(self):\n",
    "        if self.head is None:\n",
    "            print('list is empty')\n",
    "            return\n",
    "        last_node = self.head\n",
    "        while last_node.next is not self.head:\n",
    "            prev_node = last_node\n",
    "            last_node = last_node.next\n",
    "        last_node.next = None\n",
    "        prev_node.next = self.head\n",
    "    \n",
    "    def delete_head(self):\n",
    "        if self.head is None:\n",
    "            print('list is empty')\n",
    "            return\n",
    "        last_node = self.head\n",
    "        while last_node.next is not self.head:\n",
    "            last_node = last_node.next\n",
    "        temp = self.head.next\n",
    "        last_node.next = temp\n",
    "        self.head = temp\n",
    "            \n",
    "    def print_list(self):\n",
    "        if self.head is None:\n",
    "            print(\"list is empty\")\n",
    "            return\n",
    "        cur_node = self.head\n",
    "        while cur_node.next is not self.head:\n",
    "            print(cur_node.data)\n",
    "            cur_node = cur_node.next\n",
    "        print(cur_node.data)\n",
    "        cur_node = cur_node.next\n",
    "        print(cur_node.data)\n",
    "            "
   ]
  },
  {
   "cell_type": "code",
   "execution_count": 52,
   "metadata": {},
   "outputs": [],
   "source": [
    "one = Node('John')\n",
    "two = Node('Ben')\n",
    "three = Node('Mathew')\n",
    "linked_list = LinkedList()\n",
    "linked_list.insert_end(one)\n",
    "linked_list.insert_end(two)\n",
    "linked_list.insert_end(three)"
   ]
  },
  {
   "cell_type": "code",
   "execution_count": 63,
   "metadata": {},
   "outputs": [
    {
     "name": "stdout",
     "output_type": "stream",
     "text": [
      "John\n",
      "Ben\n",
      "John\n"
     ]
    }
   ],
   "source": [
    "linked_list.print_list()"
   ]
  },
  {
   "cell_type": "code",
   "execution_count": 60,
   "metadata": {},
   "outputs": [],
   "source": [
    "four = Node('Sumith')\n",
    "linked_list.insert_head(four)"
   ]
  },
  {
   "cell_type": "code",
   "execution_count": 56,
   "metadata": {},
   "outputs": [],
   "source": [
    "linked_list.delete_end()"
   ]
  },
  {
   "cell_type": "code",
   "execution_count": 62,
   "metadata": {},
   "outputs": [],
   "source": [
    "linked_list.delete_head()"
   ]
  },
  {
   "cell_type": "code",
   "execution_count": null,
   "metadata": {},
   "outputs": [],
   "source": []
  }
 ],
 "metadata": {
  "kernelspec": {
   "display_name": "Python 3",
   "language": "python",
   "name": "python3"
  },
  "language_info": {
   "codemirror_mode": {
    "name": "ipython",
    "version": 3
   },
   "file_extension": ".py",
   "mimetype": "text/x-python",
   "name": "python",
   "nbconvert_exporter": "python",
   "pygments_lexer": "ipython3",
   "version": "3.6.6"
  }
 },
 "nbformat": 4,
 "nbformat_minor": 2
}
