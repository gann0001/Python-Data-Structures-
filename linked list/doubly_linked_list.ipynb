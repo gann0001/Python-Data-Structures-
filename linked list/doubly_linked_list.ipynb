{
 "cells": [
  {
   "cell_type": "code",
   "execution_count": 1,
   "metadata": {},
   "outputs": [],
   "source": [
    "class Node:\n",
    "    def __init__(self, data):\n",
    "        self.data = data\n",
    "        self.next = None\n",
    "        self.previous = None"
   ]
  },
  {
   "cell_type": "code",
   "execution_count": null,
   "metadata": {},
   "outputs": [],
   "source": []
  },
  {
   "cell_type": "code",
   "execution_count": 2,
   "metadata": {},
   "outputs": [],
   "source": [
    "class LinkedList:\n",
    "    def __init__(self):\n",
    "        self.head = None\n",
    "    \n",
    "    def list_len(self):\n",
    "        count = 0\n",
    "        cur_node = self.head\n",
    "        if self.head is None:\n",
    "            print('list is empty')\n",
    "            return\n",
    "        while True:\n",
    "            if cur_node is None:\n",
    "                return count\n",
    "            else:\n",
    "                count += 1\n",
    "                cur_node = cur_node.next\n",
    "                \n",
    "    def insert_end(self,new_node):\n",
    "        if self.head is None:\n",
    "            self.head = new_node\n",
    "            return\n",
    "        cur_node = self.head\n",
    "        while True:\n",
    "            if cur_node.next is None:\n",
    "                break\n",
    "            else:\n",
    "                cur_node = cur_node.next\n",
    "        cur_node.next = new_node\n",
    "        new_node.previous = cur_node        \n",
    "    \n",
    "    def insert_head(self, new_node):\n",
    "        if self.head is None:\n",
    "            self.head = new_node\n",
    "            return\n",
    "        temp = self.head\n",
    "        self.head = new_node\n",
    "        new_node.next = temp\n",
    "        temp.previous = new_node\n",
    "        \n",
    "    def insert_at(self, new_node, pos):\n",
    "        cur_pos = 0\n",
    "        if pos == linked_list.list_len():\n",
    "            self.insert_end(new_node)\n",
    "            return\n",
    "        if self.head is None:\n",
    "            print('List is empty')\n",
    "            return\n",
    "        if pos < 0 or pos > linked_list.list_len():\n",
    "            print('cannot be insterted at given position')\n",
    "            return\n",
    "        if pos is 0:\n",
    "            self.insert_head(new_node)\n",
    "            return\n",
    "        cur_node = self.head\n",
    "        while True:\n",
    "            if cur_pos == pos:\n",
    "                cur_node.previous.next = new_node\n",
    "                new_node.previous = cur_node.previous\n",
    "                new_node.next = cur_node\n",
    "                cur_node.previous = new_node\n",
    "                break\n",
    "            else:\n",
    "                cur_node = cur_node.next\n",
    "                cur_pos += 1\n",
    "        \n",
    "    def del_end(self):\n",
    "        cur_node = self.head\n",
    "        while True:\n",
    "            if cur_node.next.next is None:\n",
    "                temp = cur_node.next\n",
    "                cur_node.next = None\n",
    "                temp.previous = None\n",
    "                break\n",
    "            else:\n",
    "                cur_node = cur_node.next\n",
    "    \n",
    "    def del_head(self):\n",
    "        self.head = self.head.next\n",
    "        self.head.previous.next = None\n",
    "        self.head.previous = None\n",
    "    \n",
    "    def del_inbetween(self, data):\n",
    "        if self.head.data == data:\n",
    "            del_head()\n",
    "            return\n",
    "        cur_node = self.head\n",
    "        while True:\n",
    "            if cur_node.data == data:\n",
    "                cur_node.previous.next = cur_node.next\n",
    "                cur_node.next.previous = cur_node.previous\n",
    "                cur_node.next = None\n",
    "                cur_node.previous = None\n",
    "                break\n",
    "            else:\n",
    "                cur_node = cur_node.next\n",
    "        \n",
    "    def print_list(self):\n",
    "        cur_node = self.head\n",
    "        if cur_node is None:\n",
    "            print('List is empty')\n",
    "            return\n",
    "        print('printing from the begining:')\n",
    "        while True:\n",
    "            if cur_node is None:\n",
    "                break\n",
    "            print(cur_node.data)\n",
    "            if cur_node.next is None:\n",
    "                last_node = cur_node\n",
    "            cur_node = cur_node.next\n",
    "        \n",
    "        print('\\nprinting from the backward:')\n",
    "        while True:\n",
    "            if last_node is None:\n",
    "                break\n",
    "            print(last_node.data)\n",
    "            last_node = last_node.previous\n",
    "    "
   ]
  },
  {
   "cell_type": "code",
   "execution_count": 3,
   "metadata": {},
   "outputs": [],
   "source": [
    "node_one = Node('Joe')\n",
    "node_two = Node('Mary')\n",
    "node_three = Node('Grace')\n",
    "node_four = Node('Grace')\n",
    "linked_list = LinkedList()\n",
    "linked_list.insert_end(node_one)\n",
    "linked_list.insert_end(node_two)\n",
    "linked_list.insert_end(node_three)\n",
    "linked_list.insert_end(node_four)"
   ]
  },
  {
   "cell_type": "code",
   "execution_count": 4,
   "metadata": {},
   "outputs": [
    {
     "name": "stdout",
     "output_type": "stream",
     "text": [
      "printing from the begining:\n",
      "Joe\n",
      "Mary\n",
      "Grace\n",
      "Grace\n",
      "\n",
      "printing from the backward:\n",
      "Grace\n",
      "Grace\n",
      "Mary\n",
      "Joe\n"
     ]
    }
   ],
   "source": [
    "linked_list.print_list()"
   ]
  },
  {
   "cell_type": "code",
   "execution_count": 310,
   "metadata": {},
   "outputs": [
    {
     "data": {
      "text/plain": [
       "1"
      ]
     },
     "execution_count": 310,
     "metadata": {},
     "output_type": "execute_result"
    }
   ],
   "source": [
    "linked_list.list_len()"
   ]
  },
  {
   "cell_type": "code",
   "execution_count": 281,
   "metadata": {},
   "outputs": [
    {
     "name": "stdout",
     "output_type": "stream",
     "text": [
      "printing from the begining:\n",
      "Sumith\n",
      "Joe\n",
      "Mary\n",
      "Grace\n",
      "\n",
      "printing from the backward:\n",
      "Grace\n",
      "Mary\n",
      "Joe\n",
      "Sumith\n"
     ]
    }
   ],
   "source": [
    "new_head = Node('Sumith')\n",
    "linked_list.insert_head(new_head)\n",
    "linked_list.print_list()"
   ]
  },
  {
   "cell_type": "code",
   "execution_count": 282,
   "metadata": {},
   "outputs": [
    {
     "name": "stdout",
     "output_type": "stream",
     "text": [
      "printing from the begining:\n",
      "10\n",
      "20\n",
      "15\n",
      "\n",
      "printing from the backward:\n",
      "15\n",
      "20\n",
      "10\n"
     ]
    }
   ],
   "source": [
    "node_one = Node(10)\n",
    "node_two = Node(20)\n",
    "node_three = Node(15)\n",
    "linked_list = LinkedList()\n",
    "linked_list.insert_end(node_one)\n",
    "linked_list.insert_end(node_two)\n",
    "linked_list.insert_at(node_three,2)\n",
    "linked_list.print_list()"
   ]
  },
  {
   "cell_type": "code",
   "execution_count": 283,
   "metadata": {},
   "outputs": [
    {
     "name": "stdout",
     "output_type": "stream",
     "text": [
      "printing from the begining:\n",
      "10\n",
      "20\n",
      "\n",
      "printing from the backward:\n",
      "20\n",
      "10\n"
     ]
    }
   ],
   "source": [
    "node_one = Node(10)\n",
    "node_two = Node(20)\n",
    "node_three = Node(15)\n",
    "linked_list = LinkedList()\n",
    "linked_list.insert_end(node_one)\n",
    "linked_list.insert_end(node_two)\n",
    "linked_list.insert_end(node_three)\n",
    "linked_list.del_end()\n",
    "linked_list.print_list()"
   ]
  },
  {
   "cell_type": "code",
   "execution_count": 284,
   "metadata": {},
   "outputs": [
    {
     "name": "stdout",
     "output_type": "stream",
     "text": [
      "printing from the begining:\n",
      "15\n",
      "\n",
      "printing from the backward:\n",
      "15\n"
     ]
    }
   ],
   "source": [
    "node_one = Node(10)\n",
    "node_two = Node(20)\n",
    "node_three = Node(15)\n",
    "linked_list = LinkedList()\n",
    "linked_list.insert_end(node_one)\n",
    "linked_list.insert_end(node_two)\n",
    "linked_list.insert_end(node_three)\n",
    "linked_list.del_head()\n",
    "linked_list.del_head()\n",
    "linked_list.print_list()"
   ]
  },
  {
   "cell_type": "code",
   "execution_count": 285,
   "metadata": {},
   "outputs": [
    {
     "name": "stdout",
     "output_type": "stream",
     "text": [
      "printing from the begining:\n",
      "10\n",
      "15\n",
      "\n",
      "printing from the backward:\n",
      "15\n",
      "10\n"
     ]
    }
   ],
   "source": [
    "node_one = Node(10)\n",
    "node_two = Node(20)\n",
    "node_three = Node(15)\n",
    "linked_list = LinkedList()\n",
    "linked_list.insert_end(node_one)\n",
    "linked_list.insert_end(node_two)\n",
    "linked_list.insert_end(node_three)\n",
    "linked_list.del_inbetween(20)\n",
    "linked_list.print_list()"
   ]
  },
  {
   "cell_type": "code",
   "execution_count": 291,
   "metadata": {},
   "outputs": [
    {
     "name": "stdout",
     "output_type": "stream",
     "text": [
      "printing from the begining:\n",
      "5\n",
      "3\n",
      "2\n",
      "\n",
      "printing from the backward:\n",
      "2\n",
      "3\n",
      "5\n"
     ]
    }
   ],
   "source": [
    "node_one = Node(5)\n",
    "node_two = Node(3)\n",
    "node_three = Node(10)\n",
    "node_four = Node(2)\n",
    "node_five = Node(15)\n",
    "linked_list = LinkedList()\n",
    "linked_list.insert_end(node_one)\n",
    "linked_list.insert_end(node_two)\n",
    "linked_list.insert_end(node_three)\n",
    "linked_list.insert_end(node_four)\n",
    "# linked_list.insert_end(node_five)\n",
    "linked_list.print_list()"
   ]
  },
  {
   "cell_type": "code",
   "execution_count": null,
   "metadata": {},
   "outputs": [],
   "source": []
  },
  {
   "cell_type": "code",
   "execution_count": null,
   "metadata": {},
   "outputs": [],
   "source": []
  }
 ],
 "metadata": {
  "kernelspec": {
   "display_name": "Python 3",
   "language": "python",
   "name": "python3"
  },
  "language_info": {
   "codemirror_mode": {
    "name": "ipython",
    "version": 3
   },
   "file_extension": ".py",
   "mimetype": "text/x-python",
   "name": "python",
   "nbconvert_exporter": "python",
   "pygments_lexer": "ipython3",
   "version": "3.6.6"
  }
 },
 "nbformat": 4,
 "nbformat_minor": 2
}
